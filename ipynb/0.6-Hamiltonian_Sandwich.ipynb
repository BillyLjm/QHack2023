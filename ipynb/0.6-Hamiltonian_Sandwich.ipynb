{
 "cells": [
  {
   "cell_type": "markdown",
   "id": "258a188f",
   "metadata": {},
   "source": [
    "##### Tutorial Challenges\n",
    "\n",
    "# 6. Hamiltonian Sandwich (0 points)\n",
    "\n",
    "Welcome to the QHack 2023 daily challenges! Every day for the next four days, you will receive two new challenges to complete. These challenges are worth no points — they are specifically designed to get your brain active and into the right mindset for the competition. You will also learn about various aspects of PennyLane that are essential to quantum computing, quantum machine learning, and quantum chemistry. Have fun!\n",
    "\n",
    "## Tutorial \\#6 — Hamiltonians\n",
    "\n",
    "The Hamiltonian is the energy observable for a quantum system, and a quintessential component in many quantum algorithms. How do we implement Hamiltonians in PennyLane? You'll be tested on this in this challenge.\n",
    "\n",
    "You will be tasked with creating the Hamiltonian\n",
    "\n",
    "$$H = \\frac{1}{3} \\sum_{i \\lt j} X_i X_j - \\sum-{i=0}^{n-1} Z_i$$\n",
    "\n",
    "where $n$ is the number of qubits, $X_i$ and $Z_i$ are the familiar Pauli X and Z operators, respectively, and $\\sum_{i \\lt j}$ denotes a sum over all pairs (e.g. for $n=3$, the pairs are $(i,j) = (0,1), (0,2), (1,2)$). Note that we're indexing from 0!\n",
    "\n",
    "In this challenge, you need to create the following quantum circuit simulation that returns the expectation value of this Hamiltonian.\n",
    "\n",
    "![Quantum Circuit](../img/daily6.png)\n",
    "\n",
    "To be clear, each wire represents $n$ qubits, and $|0\\rangle$ really means $|0\\rangle^{\\otimes n}$, i.e. the $|0\\rangle$ state for each of these $n$ qubits. Also, be mindful that the $H$ gates represent the Hadamard gate, not the Hamiltonian (which is not unitary, in general)!\n",
    "\n",
    "## Challenge code\n",
    "\n",
    "In the code below, you must complete two functions:\n",
    "\n",
    "- `hamiltonian`: responsible for creating the Hamiltonian in question for a general number of qubits (`num_wires`). **You must complete this function.**\n",
    "- `expectation_value`: simulates the circuit in question and returns the expectation value of the Hamiltonian in question. **You must complete this function** by creating a QNode within this function that returns the expectation value of the Hamiltonian.\n",
    "\n",
    "Here are some helpful resources and hints:\n",
    "\n",
    "- The $X_i X_j$ term, mathematically, denotes a tensor product between the two Pauli-X operators. Here are some ways you can perform this in PennyLane:\n",
    "    - use the `@` operator to take the tensor product between operators;\n",
    "    - use [`qml.prod`](https://docs.pennylane.ai/en/stable/code/api/pennylane.prod.html).\n",
    "- [`qml.Hamiltonian`](https://docs.pennylane.ai/en/stable/code/api/pennylane.Hamiltonian.html)\n",
    "- [Operator arithmetic](https://pennylane.ai/blog/2022/08/pennylane-v025-released/#intuitive-operator-arithmetic)\n",
    "\n",
    "### Input\n",
    "\n",
    "As input to this problem, you are given the number of qubits $n$, `num_wires` (`int`).\n",
    "\n",
    "### Output\n",
    "\n",
    "This code must output the expectation value of the Hamiltonian (`float`).\n",
    "\n",
    "If your solution matches the correct one within the given tolerance specified in `check` (in this case it's a `1e-4` relative error tolerance), the output will be `\"Correct!\"` Otherwise, you will receive a `\"Wrong answer\"` prompt.\n",
    "\n",
    "Good luck!\n",
    "\n",
    "### Code"
   ]
  },
  {
   "cell_type": "code",
   "execution_count": 1,
   "id": "c7bfb6cd",
   "metadata": {},
   "outputs": [],
   "source": [
    "import json\n",
    "import pennylane as qml\n",
    "import pennylane.numpy as np"
   ]
  },
  {
   "cell_type": "code",
   "execution_count": 2,
   "id": "595734b7",
   "metadata": {},
   "outputs": [
    {
     "name": "stdout",
     "output_type": "stream",
     "text": [
      "  (-1) [Z0]\n",
      "+ (-1) [Z1]\n",
      "+ (-1) [Z2]\n",
      "+ (0.3333333333333333) [X0 X1]\n",
      "+ (0.3333333333333333) [X0 X2]\n",
      "+ (0.3333333333333333) [X1 X2]\n"
     ]
    }
   ],
   "source": [
    "def hamiltonian(num_wires):\n",
    "    \"\"\"A function for creating the Hamiltonian in question for a general\n",
    "    number of qubits.\n",
    "\n",
    "    Args:\n",
    "        num_wires (int): The number of qubits.\n",
    "\n",
    "    Returns:\n",
    "        (qml.Hamiltonian): A PennyLane Hamiltonian.\n",
    "    \"\"\"\n",
    "    \n",
    "    # Put your solution here #\n",
    "    \n",
    "    # XX terms\n",
    "    obs = []\n",
    "    for j in range(num_wires):\n",
    "        for i in range(j):\n",
    "            obs.append(qml.PauliX(i) @ qml.PauliX(j))\n",
    "    coeffs = [1/3] * len(obs)\n",
    "    \n",
    "    # Z terms\n",
    "    obs += [qml.PauliZ(i) for i in range(num_wires)]\n",
    "    coeffs += [-1] * num_wires\n",
    "    \n",
    "    # create Hamiltonian\n",
    "    return qml.Hamiltonian(coeffs, obs)\n",
    "\n",
    "hamiltonian(3)"
   ]
  },
  {
   "cell_type": "code",
   "execution_count": 3,
   "id": "f82d6ee7",
   "metadata": {},
   "outputs": [
    {
     "data": {
      "text/plain": [
       "tensor(1., requires_grad=True)"
      ]
     },
     "execution_count": 3,
     "metadata": {},
     "output_type": "execute_result"
    }
   ],
   "source": [
    "def expectation_value(num_wires):\n",
    "    \"\"\"Simulates the circuit in question and returns the expectation value of the \n",
    "    Hamiltonian in question.\n",
    "\n",
    "    Args:\n",
    "        num_wires (int): The number of qubits.\n",
    "\n",
    "    Returns:\n",
    "        (float): The expectation value of the Hamiltonian.\n",
    "    \"\"\"\n",
    "    \n",
    "    # Put your solution here #\n",
    "\n",
    "    # Define a device using qml.device\n",
    "    dev = qml.device(\"default.qubit\", wires=num_wires)\n",
    "    \n",
    "    @qml.qnode(dev)\n",
    "    def circuit(num_wires):\n",
    "        \"\"\"A quantum circuit with Hadamard gates on every qubit and that measures\n",
    "        the expectation value of the Hamiltonian in question. \n",
    "        \"\"\"\n",
    "        \n",
    "        # Put Hadamard gates here #\n",
    "        for wire in dev.wires:\n",
    "            qml.Hadamard(wires=wire)\n",
    "\n",
    "        # Then return the expectation value of the Hamiltonian using qml.expval\n",
    "        return qml.expval(hamiltonian(num_wires))\n",
    "    \n",
    "    return circuit(num_wires)\n",
    "\n",
    "expectation_value(3)"
   ]
  },
  {
   "cell_type": "code",
   "execution_count": 4,
   "id": "10af186c",
   "metadata": {},
   "outputs": [],
   "source": [
    "# These functions are responsible for testing the solution.\n",
    "def run(test_case_input: str) -> str:\n",
    "    num_wires = json.loads(test_case_input)\n",
    "    output = expectation_value(num_wires)\n",
    "\n",
    "    return str(output)\n",
    "\n",
    "def check(solution_output: str, expected_output: str) -> None:\n",
    "    solution_output = json.loads(solution_output)\n",
    "    expected_output = json.loads(expected_output)\n",
    "    assert np.allclose(solution_output, expected_output, rtol=1e-4)"
   ]
  },
  {
   "cell_type": "code",
   "execution_count": 5,
   "id": "fc60a9df",
   "metadata": {},
   "outputs": [],
   "source": [
    "test_cases = [['8', '9.33333']]"
   ]
  },
  {
   "cell_type": "code",
   "execution_count": 6,
   "id": "ac268ef4",
   "metadata": {},
   "outputs": [
    {
     "name": "stdout",
     "output_type": "stream",
     "text": [
      "Running test case 0 with input '8'...\n",
      "Correct!\n"
     ]
    }
   ],
   "source": [
    "for i, (input_, expected_output) in enumerate(test_cases):\n",
    "    print(f\"Running test case {i} with input '{input_}'...\")\n",
    "\n",
    "    try:\n",
    "        output = run(input_)\n",
    "\n",
    "    except Exception as exc:\n",
    "        print(f\"Runtime Error. {exc}\")\n",
    "\n",
    "    else:\n",
    "        if message := check(output, expected_output):\n",
    "            print(f\"Wrong Answer. Have: '{output}'. Want: '{expected_output}'.\")\n",
    "\n",
    "        else:\n",
    "            print(\"Correct!\")"
   ]
  }
 ],
 "metadata": {
  "kernelspec": {
   "display_name": "pennylane",
   "language": "python",
   "name": "pennylane"
  },
  "language_info": {
   "codemirror_mode": {
    "name": "ipython",
    "version": 3
   },
   "file_extension": ".py",
   "mimetype": "text/x-python",
   "name": "python",
   "nbconvert_exporter": "python",
   "pygments_lexer": "ipython3",
   "version": "3.11.2"
  }
 },
 "nbformat": 4,
 "nbformat_minor": 5
}
