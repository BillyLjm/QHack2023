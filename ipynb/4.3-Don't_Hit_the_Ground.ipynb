{
 "cells": [
  {
   "cell_type": "markdown",
   "id": "45764346",
   "metadata": {},
   "source": [
    "##### Fall of Sqynet\n",
    "\n",
    "# Don't Hit the Ground (300 points)\n",
    "\n",
    "### Backstory\n",
    "\n",
    "Zenda and Reece discuss strategies to interfere with the correct functioning of Sqynet, the conscious quantum computer that's taking over the galaxy. One way to tamper with its hardware is to bombard Sqynet's outer shell with plasma grenades, exposing the quantum computer to higher temperatures. As a consequence, Sqynet won't be able to prepare its ground state quickly.\n",
    "\n",
    "### Preparing ground states\n",
    "\n",
    "Preparing a fiducial state, usually denoted by $|0\\rangle$ is the first step before carrying out any quantum computations. For most quantum computers, this is a straightforward process (although sometimes energy and time consuming). We need to bring the quantum device to almost absolute zero so that it relaxes to its ground state —the state of minimal energy— which is our choice of fiducial state.\n",
    "\n",
    "Why does this happen? Quantum systems are never really isolated, so they will exchange energy with their environment. The net effect is that any quantum properties of the system's state, i.e. superpositions and entanglement, are lost after some time.\n",
    "\n",
    "How do we model this energy exchange at finite temperature? The *Generalized Amplitude Damping channel* provides a good approximation. Suppose $\\gamma$ is the photon loss rate at zero temperature, and $p$ is the probability that a qubit emits a photon to the finite-temperature environment (the system will also absorb photons with probability $1-p$). We can approximate the interaction with the environment for a duration $t$ via the circuit below.\n",
    "\n",
    "![Amplitude Damping Circuit](../img/spaceship_3.png)\n",
    "\n",
    "That is, we compose many [Generalized Amplitude Damping channels](https://docs.pennylane.ai/en/stable/code/api/pennylane.GeneralizedAmplitudeDamping.html) with infinitesimal noise parameters $\\gamma \\Delta t$ and de-excitation probability $p$. A shorter `step` $\\Delta t$ gives a more precise calculation, but we will need more Generalized Amplitude Damping channels to model the same duration $T$.\n",
    "\n",
    "Zenda and Reece need to figure out a measure of how quickly Sqynet can relax its fiducial state, given some photon loss rate $\\gamma$ and emission probability $p$ . Assuming that Sqynet is in the initial state\n",
    "\n",
    "$$|+\\rangle = \\frac{1}{\\sqrt{2}} |0\\rangle + \\frac{1}{\\sqrt{2}} |1\\rangle$$\n",
    "\n",
    "your task is to estimate the *relaxation half-life*, which is the time at which we obtain the outcome $|1\\rangle$ with probability 1/4 (the measurement is performed in the computational basis).\n",
    "\n",
    "## Challenge code\n",
    "\n",
    "You must complete the `half_life` function to calculate the time\n",
    "at which the probability of measuring $|1\\rangle$ becomes 1/4.\n",
    "\n",
    "### Input\n",
    "\n",
    "As input to this problem, you are given:\n",
    "\n",
    "- `gamma` (`float`): The zero-temperature photon loss rate.\n",
    "- `p` (`float`): The de-excitation probability due to temperature effects\n",
    "\n",
    "### Output\n",
    "\n",
    "This code will output a `float` equal to your estimate of the relaxation half-life. Note that you may require the step and iterations of your circuit to actually reach the half-life.\n",
    "\n",
    "If your solution matches the correct one within the given tolerance specified in `check` (in this case it's an absolute tolerance of `0.2`), the output will be `\"Correct!\"` Otherwise, you will receive a `\"Wrong answer\"` prompt.\n",
    "\n",
    "Good luck!\n",
    "\n",
    "### Code"
   ]
  },
  {
   "cell_type": "code",
   "execution_count": 1,
   "id": "f5fbb424",
   "metadata": {},
   "outputs": [],
   "source": [
    "import json\n",
    "import pennylane as qml\n",
    "import pennylane.numpy as np"
   ]
  },
  {
   "cell_type": "code",
   "execution_count": 2,
   "id": "0905b618",
   "metadata": {},
   "outputs": [
    {
     "data": {
      "text/plain": [
       "9.05"
      ]
     },
     "execution_count": 2,
     "metadata": {},
     "output_type": "execute_result"
    }
   ],
   "source": [
    "def half_life(gamma, p):\n",
    "    \"\"\"Calculates the relaxation half-life of a quantum system that exchanges energy with its environment.\n",
    "    This process is modeled via Generalized Amplitude Damping.\n",
    "\n",
    "    Args:\n",
    "        gamma (float): \n",
    "            The probability per unit time of the system losing a quantum of energy\n",
    "            to the environment.\n",
    "        p (float): The de-excitation probability due to environmental effect\n",
    "\n",
    "    Returns:\n",
    "        (float): The relaxation haf-life of the system, as explained in the problem statement.\n",
    "    \"\"\"\n",
    "\n",
    "    num_wires = 1\n",
    "\n",
    "    dev = qml.device(\"default.mixed\", wires=num_wires)\n",
    "    \n",
    "    # Feel free to write helper functions or global variables here\n",
    "\n",
    "    @qml.qnode(dev)\n",
    "    def noise(gamma, timestep, nsteps):\n",
    "        \"\"\"Implement the sequence of Generalized Amplitude Damping channels in this QNode\n",
    "        You may pass instead of return if you solved this problem analytically, it's possible!\n",
    "\n",
    "        Args:\n",
    "            gamma (float): The probability per unit time of the system losing a quantum of energy\n",
    "            to the environment.\n",
    "            timestep (float): timestep to apply each GeneralizedAmplitudeDamping gate for\n",
    "            nsteps (int): number of timesteps to iterate for\n",
    "        \n",
    "        Returns:\n",
    "            (float): The relaxation half-life.\n",
    "        \"\"\"\n",
    "        # Don't forget to initialize the state\n",
    "        # Put your code here #\n",
    "        qml.Hadamard(wires=0)\n",
    "        \n",
    "        # apply GAD gates\n",
    "        for _ in range(nsteps):\n",
    "            qml.GeneralizedAmplitudeDamping(gamma * timestep, p, wires=0)\n",
    "\n",
    "        # Return something or pass if you solved this analytically!\n",
    "        return qml.probs(wires=0)\n",
    "\n",
    "    # Write any subroutines you may need to find the relaxation time here\n",
    "    \n",
    "    # params\n",
    "    timestep = 0.01 # timestep for simulation\n",
    "    min_nsteps = 1 # minimum number of timesteps to relaxation\n",
    "    max_nsteps = int(1e4) # maximum number of timesteps to relaxation\n",
    "    \n",
    "    # binary search\n",
    "    while(max_nsteps - min_nsteps > 1):\n",
    "        nsteps = int((max_nsteps + min_nsteps) // 2)\n",
    "        prob1 = noise(gamma, timestep, nsteps)[1]\n",
    "        if prob1 < 1/4:\n",
    "            max_nsteps = nsteps\n",
    "        else:\n",
    "            min_nsteps = nsteps\n",
    "    \n",
    "    # Return the relaxation half-life\n",
    "    return max_nsteps * timestep\n",
    "\n",
    "half_life(0.1, 0.92)"
   ]
  },
  {
   "cell_type": "code",
   "execution_count": 3,
   "id": "e132caeb",
   "metadata": {},
   "outputs": [],
   "source": [
    "# These functions are responsible for testing the solution.\n",
    "def run(test_case_input: str) -> str:\n",
    "\n",
    "    ins = json.loads(test_case_input)\n",
    "    output = half_life(*ins)\n",
    "\n",
    "    return str(output)\n",
    "\n",
    "def check(solution_output: str, expected_output: str) -> None:\n",
    "    solution_output = json.loads(solution_output)\n",
    "    expected_output = json.loads(expected_output)\n",
    "    assert np.allclose(\n",
    "        solution_output, expected_output, atol=2e-1\n",
    "    ), \"The relaxation half-life is not quite right.\"\n"
   ]
  },
  {
   "cell_type": "code",
   "execution_count": 4,
   "id": "8db66de4",
   "metadata": {},
   "outputs": [],
   "source": [
    "test_cases = [['[0.1,0.92]', '9.05'], ['[0.2,0.83]', '7.09']]"
   ]
  },
  {
   "cell_type": "code",
   "execution_count": 5,
   "id": "29c26a50",
   "metadata": {},
   "outputs": [
    {
     "name": "stdout",
     "output_type": "stream",
     "text": [
      "Running test case 0 with input '[0.1,0.92]'...\n",
      "Correct!\n",
      "Running test case 1 with input '[0.2,0.83]'...\n",
      "Correct!\n"
     ]
    }
   ],
   "source": [
    "for i, (input_, expected_output) in enumerate(test_cases):\n",
    "    print(f\"Running test case {i} with input '{input_}'...\")\n",
    "\n",
    "    try:\n",
    "        output = run(input_)\n",
    "\n",
    "    except Exception as exc:\n",
    "        print(f\"Runtime Error. {exc}\")\n",
    "\n",
    "    else:\n",
    "        if message := check(output, expected_output):\n",
    "            print(f\"Wrong Answer. Have: '{output}'. Want: '{expected_output}'.\")\n",
    "\n",
    "        else:\n",
    "            print(\"Correct!\")"
   ]
  }
 ],
 "metadata": {
  "kernelspec": {
   "display_name": "pennylane",
   "language": "python",
   "name": "pennylane"
  },
  "language_info": {
   "codemirror_mode": {
    "name": "ipython",
    "version": 3
   },
   "file_extension": ".py",
   "mimetype": "text/x-python",
   "name": "python",
   "nbconvert_exporter": "python",
   "pygments_lexer": "ipython3",
   "version": "3.11.2"
  }
 },
 "nbformat": 4,
 "nbformat_minor": 5
}
