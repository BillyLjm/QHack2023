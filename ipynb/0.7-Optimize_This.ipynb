{
 "cells": [
  {
   "cell_type": "markdown",
   "id": "d034b96b",
   "metadata": {},
   "source": [
    "##### Tutorial Challenges\n",
    "\n",
    "# 7. Optimize This (0 points)\n",
    "\n",
    "Welcome to the QHack 2023 daily challenges! Every day for the next four days, you will receive two new challenges to complete. These challenges are worth no points — they are specifically designed to get your brain active and into the right mindset for the competition. You will also learn about various aspects of PennyLane that are essential to quantum computing, quantum machine learning, and quantum chemistry. Have fun!\n",
    "\n",
    "## Tutorial \\#7 — Quantum machine learning\n",
    "\n",
    "Quantum machine learning is an area of research that explores the interplay between quantum computing and machine learning. Quantum machine learning models might offer significant speedups for performing certain tasks like classification, image processing, and regression.\n",
    "\n",
    "In this challenge, you'll learn the meat and potatoes of training a quantum machine learning model. Specifically, you will implement a procedure for embedding classical numbers into a quantum computer, construct a simple quantum machine learning model, and perform three optimization steps. The quantum circuit in the model that you will implement looks like this:\n",
    "\n",
    "![Quantum Machine Learning Circuit](../img/daily7.png)\n",
    "\n",
    "## Challenge code\n",
    "\n",
    "In the code below, you must complete the following functions:\n",
    "\n",
    "- `three_optimization_steps`: performs three optimization steps. **You must complete this function.**\n",
    "- `cost`: this is within the three_optimization_steps function. **You must complete this function.** `cost` is a QNode that does a few things:\n",
    "    - acts on 3 qubits only;\n",
    "    - embeds the input `data` via [amplitude embedding](https://docs.pennylane.ai/en/stable/code/api/pennylane.AmplitudeEmbedding.html);\n",
    "    - defines some differentiable gates via a template called [qml.BasicEntanglerLayers](https://docs.pennylane.ai/en/stable/code/api/pennylane.BasicEntanglerLayers.html); and\n",
    "    - returns the expectation value of $\\sum_{i=1}^n Z_i$, where $n$ is the number of qubits.\n",
    "\n",
    "Within the `three_optimization_steps` function is a variable called `weights`. These are the changeable parameters that help define the `qml.BasicEntanglerLayers` template that you must put in the `cost` function. `weights` are the parameters that will be optimized (and need to be referred to by this name due to the final call `return cost(weights, data=data)`, which cannot be edited).\n",
    "\n",
    "To perform three optimization steps, use a gradient decent optimizer — `qml.GradientDescentOptimizer` — with a step size of $0.01$.\n",
    "\n",
    "Here are some helpful resources:\n",
    "\n",
    "- [Optimizing a quantum circuit — YouTube video](https://youtu.be/TiQ7T1h8VAQ)\n",
    "- [Basic tutorial: qubit rotation — Optimization](https://pennylane.ai/qml/demos/tutorial_qubit_rotation.html#optimization)\n",
    "\n",
    "### Input\n",
    "\n",
    "As input to this problem, you are given classical `data` (`list(float)`) that you must embed into a quantum circuit via [amplitude embedding](https://docs.pennylane.ai/en/stable/code/api/pennylane.AmplitudeEmbedding.html).\n",
    "\n",
    "### Output\n",
    "\n",
    "This code must output the evaluation of `cost` after three optimization steps have been performed.\n",
    "\n",
    "If your solution matches the correct one within the given tolerance specified in `check` (in this case it's a `1e-4` relative error tolerance), the output will be `\"Correct!\"` Otherwise, you will receive a `\"Wrong answer\"` prompt.\n",
    "\n",
    "Good luck!\n",
    "\n",
    "### Code"
   ]
  },
  {
   "cell_type": "code",
   "execution_count": 1,
   "id": "c911c948",
   "metadata": {},
   "outputs": [],
   "source": [
    "import json\n",
    "import pennylane as qml\n",
    "import pennylane.numpy as np"
   ]
  },
  {
   "cell_type": "code",
   "execution_count": 2,
   "id": "ce66a88d",
   "metadata": {},
   "outputs": [
    {
     "data": {
      "text/plain": [
       "tensor(0.06604044, requires_grad=True)"
      ]
     },
     "execution_count": 2,
     "metadata": {},
     "output_type": "execute_result"
    }
   ],
   "source": [
    "def three_optimization_steps(data):\n",
    "    \"\"\"Performs three optimization steps on a quantum machine learning model.\n",
    "\n",
    "    Args:\n",
    "        data (list(float)): Classical data that is to be embedded in a quantum circuit.\n",
    "\n",
    "    Returns:\n",
    "        (float): The cost function evaluated after three optimization steps.\n",
    "    \"\"\"\n",
    "\n",
    "    normalize = np.sqrt(np.sum(data[i] ** 2 for i in range(len(data))))\n",
    "    data /= normalize\n",
    "\n",
    "    dev = qml.device(\"default.qubit\", wires=3)\n",
    "\n",
    "    @qml.qnode(dev)\n",
    "    def cost(weights, data=data):\n",
    "        \"\"\"A circuit that embeds classical data and has quantum gates with tunable parameters/weights.\n",
    "\n",
    "        Args:\n",
    "            weights (numpy.array): An array of tunable parameters that help define the gates needed.\n",
    "\n",
    "        Kwargs:\n",
    "            data (list(float)): Classical data that is to be embedded in a quantum circuit.\n",
    "\n",
    "        Returns:\n",
    "            (float): The expectation value of the sum of the Pauli Z operator on every qubit.\n",
    "        \"\"\"\n",
    "        \n",
    "        # Put your code here #\n",
    "        \n",
    "        qml.AmplitudeEmbedding(features=data, wires=dev.wires)\n",
    "        qml.BasicEntanglerLayers(weights=weights, wires=dev.wires)\n",
    "    \n",
    "        return qml.expval(qml.op_sum(*[qml.PauliZ(i) for i in dev.wires]))\n",
    "    \n",
    "    # initialize the weights\n",
    "    shape = qml.BasicEntanglerLayers.shape(n_layers=2, n_wires=dev.num_wires)\n",
    "    weights = np.array([0.1, 0.2, 0.3, 0.4, 0.5, 0.6], requires_grad=True).reshape(\n",
    "        shape\n",
    "    )\n",
    "    \n",
    "    # Put your code here #\n",
    "\n",
    "    # Define a gradient descent optimizer with a step size of 0.01\n",
    "    opt = qml.GradientDescentOptimizer(stepsize=0.01)\n",
    "\n",
    "    # Optimize the cost function for three steps\n",
    "    for _ in range(3):\n",
    "        weights = opt.step(cost, weights)\n",
    "    \n",
    "    return cost(weights, data=data)\n",
    "\n",
    "three_optimization_steps([1.0, 2.0, 3.0, 4.0, 5.0, 6.0, 7.0, 8.0])"
   ]
  },
  {
   "cell_type": "code",
   "execution_count": 3,
   "id": "e92f4f61",
   "metadata": {},
   "outputs": [],
   "source": [
    "# These functions are responsible for testing the solution.\n",
    "def run(test_case_input: str) -> str:\n",
    "    data = json.loads(test_case_input)\n",
    "    cost_val = three_optimization_steps(data)\n",
    "    return str(cost_val)\n",
    "\n",
    "def check(solution_output: str, expected_output: str) -> None:\n",
    "    solution_output = json.loads(solution_output)\n",
    "    expected_output = json.loads(expected_output)\n",
    "    assert np.allclose(solution_output, expected_output, rtol=1e-4)"
   ]
  },
  {
   "cell_type": "code",
   "execution_count": 4,
   "id": "3910feed",
   "metadata": {},
   "outputs": [],
   "source": [
    "test_cases = [['[1.0, 2.0, 3.0, 4.0, 5.0, 6.0, 7.0, 8.0]', '0.066040']]"
   ]
  },
  {
   "cell_type": "code",
   "execution_count": 5,
   "id": "c878d8c8",
   "metadata": {},
   "outputs": [
    {
     "name": "stdout",
     "output_type": "stream",
     "text": [
      "Running test case 0 with input '[1.0, 2.0, 3.0, 4.0, 5.0, 6.0, 7.0, 8.0]'...\n",
      "Correct!\n"
     ]
    }
   ],
   "source": [
    "for i, (input_, expected_output) in enumerate(test_cases):\n",
    "    print(f\"Running test case {i} with input '{input_}'...\")\n",
    "\n",
    "    try:\n",
    "        output = run(input_)\n",
    "\n",
    "    except Exception as exc:\n",
    "        print(f\"Runtime Error. {exc}\")\n",
    "\n",
    "    else:\n",
    "        if message := check(output, expected_output):\n",
    "            print(f\"Wrong Answer. Have: '{output}'. Want: '{expected_output}'.\")\n",
    "\n",
    "        else:\n",
    "            print(\"Correct!\")"
   ]
  }
 ],
 "metadata": {
  "kernelspec": {
   "display_name": "pennylane",
   "language": "python",
   "name": "pennylane"
  },
  "language_info": {
   "codemirror_mode": {
    "name": "ipython",
    "version": 3
   },
   "file_extension": ".py",
   "mimetype": "text/x-python",
   "name": "python",
   "nbconvert_exporter": "python",
   "pygments_lexer": "ipython3",
   "version": "3.11.2"
  }
 },
 "nbformat": 4,
 "nbformat_minor": 5
}
