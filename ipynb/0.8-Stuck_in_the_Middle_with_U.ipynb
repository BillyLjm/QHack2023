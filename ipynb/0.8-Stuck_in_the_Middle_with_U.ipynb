{
 "cells": [
  {
   "cell_type": "markdown",
   "id": "e939d877",
   "metadata": {},
   "source": [
    "##### Tutorial Challenges\n",
    "\n",
    "# 8. Stuck in the Middle with U (0 points)\n",
    "\n",
    "Welcome to the QHack 2023 daily challenges! Every day for the next four days, you will receive two new challenges to complete. These challenges are worth no points — they are specifically designed to get your brain active and into the right mindset for the competition. You will also learn about various aspects of PennyLane that are essential to quantum computing, quantum machine learning, and quantum chemistry. Have fun!\n",
    "\n",
    "## Tutorial \\#8 — Mid-circuit measurements\n",
    "\n",
    "In classical computations, inserting control flow — e.g, `if` statements — right in the middle of a large computation is no problem at all since measuring variables does not affect the output of the computation. The same can't be said about quantum computations — if we measure, we better be careful!\n",
    "\n",
    "In this challenge, you'll look at how mid-circuit measurements work in PennyLane.\n",
    "\n",
    "## Challenge code\n",
    "\n",
    "In the code below, you are given a function called `circuit`. **You must complete this function** by constructing the following four-qubit circuit:\n",
    "\n",
    "![quantum circuit](../img/daily8.png)\n",
    "\n",
    "The circuit has a Hadamard gate on every qubit, an $R_x$ gate, a couple of CNOTs, and then the mid-circuit measurements. Note here that the measurements happen on the first and third qubits, and that the `qml.U3` gate is only applied to the fourth qubit if the following condition is met upon measuring the first and third wires: $m_0 + m_2 \\geq 1$ (i.e. at least one of them is $1$). The last operator, `qml.PauliZ` on the fourth qubit, is applied regardless.\n",
    "\n",
    "The [`qml.measure`](https://docs.pennylane.ai/en/stable/code/api/pennylane.measure.html) function should be helpful to you!\n",
    "\n",
    "### Input\n",
    "\n",
    "As input to this problem, you are given:\n",
    "\n",
    "- `angles` (`list(float)`): a list of angles containing $\\theta_0$, $\\theta_1$, $\\theta_2$, and $\\theta_3$ in that order. Use this to create the circuit!\n",
    "\n",
    "### Output\n",
    "\n",
    "This code must output a `numpy.tensor` containing the probabilities associated to a computational basis measurement **on the fourth qubit**.\n",
    "\n",
    "If your solution matches the correct one within the given tolerance specified in `check` (in this case it's a `1e-4` relative error tolerance), the output will be `\"Correct!\"` Otherwise, you will receive a `\"Wrong answer\"` prompt.\n",
    "\n",
    "Good luck!\n",
    "\n",
    "### Code"
   ]
  },
  {
   "cell_type": "code",
   "execution_count": 1,
   "id": "71d51dc6",
   "metadata": {},
   "outputs": [],
   "source": [
    "import json\n",
    "import pennylane as qml\n",
    "import pennylane.numpy as np"
   ]
  },
  {
   "cell_type": "code",
   "execution_count": 2,
   "id": "6879ff3a",
   "metadata": {},
   "outputs": [
    {
     "name": "stdout",
     "output_type": "stream",
     "text": [
      "0: ──H──RX(1.00)─╭●────╭○──────────────────╭●──────────────────╭●─────────────────────┤       \n",
      "1: ──H───────────│──╭X─│───────────────────│───────────────────│──────────────────────┤       \n",
      "2: ──H───────────│──╰●─├●──────────────────├○──────────────────├●─────────────────────┤       \n",
      "3: ──H───────────╰X────╰U3(2.00,3.00,4.00)─╰U3(2.00,3.00,4.00)─╰U3(2.00,3.00,4.00)──Z─┤  Probs\n"
     ]
    }
   ],
   "source": [
    "n_qubits = 4\n",
    "dev = qml.device(\"default.qubit\", wires=n_qubits)\n",
    "\n",
    "@qml.qnode(dev)\n",
    "def circuit(angles):\n",
    "    \"\"\"A quantum circuit made from the quantum function U.\n",
    "\n",
    "    Args:\n",
    "        angles (list(float)): A list of angles containing theta_0, theta_1, theta_2, and theta_3 in that order. \n",
    "    Returns:\n",
    "        (numpy.tensor): The probability of the fourth qubit.\n",
    "    \"\"\"\n",
    "    \n",
    "    # Put your code here #\n",
    "    \n",
    "    for wire in dev.wires:\n",
    "        qml.Hadamard(wires=wire)\n",
    "    qml.RX(angles[0], wires=0)\n",
    "    qml.CNOT(wires=[0,3])\n",
    "    qml.CNOT(wires=[2,1])\n",
    "    \n",
    "    m_0 = qml.measure(0)\n",
    "    m_2 = qml.measure(2)\n",
    "    qml.cond(m_0 + m_2 >= 1, qml.U3)(*angles[1:], wires=3)\n",
    "    \n",
    "    qml.PauliZ(wires=3)\n",
    "    \n",
    "    return qml.probs(wires=3)\n",
    "\n",
    "print(qml.draw(circuit)([1,2,3,4]))"
   ]
  },
  {
   "cell_type": "code",
   "execution_count": 3,
   "id": "2bcbc567",
   "metadata": {},
   "outputs": [],
   "source": [
    "# These functions are responsible for testing the solution.\n",
    "def run(test_case_input: str) -> str:\n",
    "    angles = json.loads(test_case_input)\n",
    "    output = circuit(angles).tolist()\n",
    "    return str(output)\n",
    "\n",
    "def check(solution_output: str, expected_output: str) -> None:\n",
    "    solution_output = json.loads(solution_output)\n",
    "    expected_output = json.loads(expected_output)\n",
    "\n",
    "    assert np.allclose(solution_output, expected_output, rtol=1e-4)"
   ]
  },
  {
   "cell_type": "code",
   "execution_count": 4,
   "id": "fdc0693a",
   "metadata": {},
   "outputs": [],
   "source": [
    "test_cases = [['[1.0, 1.5, 2.0, 2.5]', '[0.79967628, 0.20032372]']]"
   ]
  },
  {
   "cell_type": "code",
   "execution_count": 5,
   "id": "054f07f6",
   "metadata": {},
   "outputs": [
    {
     "name": "stdout",
     "output_type": "stream",
     "text": [
      "Running test case 0 with input '[1.0, 1.5, 2.0, 2.5]'...\n",
      "Correct!\n"
     ]
    }
   ],
   "source": [
    "for i, (input_, expected_output) in enumerate(test_cases):\n",
    "    print(f\"Running test case {i} with input '{input_}'...\")\n",
    "\n",
    "    try:\n",
    "        output = run(input_)\n",
    "\n",
    "    except Exception as exc:\n",
    "        print(f\"Runtime Error. {exc}\")\n",
    "\n",
    "    else:\n",
    "        if message := check(output, expected_output):\n",
    "            print(f\"Wrong Answer. Have: '{output}'. Want: '{expected_output}'.\")\n",
    "\n",
    "        else:\n",
    "            print(\"Correct!\")"
   ]
  }
 ],
 "metadata": {
  "kernelspec": {
   "display_name": "pennylane",
   "language": "python",
   "name": "pennylane"
  },
  "language_info": {
   "codemirror_mode": {
    "name": "ipython",
    "version": 3
   },
   "file_extension": ".py",
   "mimetype": "text/x-python",
   "name": "python",
   "nbconvert_exporter": "python",
   "pygments_lexer": "ipython3",
   "version": "3.11.2"
  }
 },
 "nbformat": 4,
 "nbformat_minor": 5
}
