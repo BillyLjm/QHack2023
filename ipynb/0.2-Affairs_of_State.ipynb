{
 "cells": [
  {
   "cell_type": "markdown",
   "id": "afd30779",
   "metadata": {},
   "source": [
    "##### Tutorial Challenges\n",
    "\n",
    "# 2. Affairs of State (0 points)\n",
    "\n",
    "Welcome to the QHack 2023 daily challenges! Every day for the next four days, you will receive two new challenges to complete. These challenges are worth no points — they are specifically designed to get your brain active and into the right mindset for the competition. You will also learn about various aspects of PennyLane that are essential to quantum computing, quantum machine learning, and quantum chemistry. Have fun!\n",
    "\n",
    "## Tutorial \\#2 — Building a quantum circuit\n",
    "\n",
    "In PennyLane, the fundamental unit of quantum circuit simulation is called a *QNode*. Basically, a QNode takes a *quantum function* — a Python function that contains instructions in the form of quantum gates acting on wires — and a device, runs the function on the device, and returns a measurement. To see how this works, check out our [YouTube video](https://youtu.be/2T8lSejPFog).\n",
    "\n",
    "In this challenge, you need to simulate the following quantum circuit and return the resulting probability distribution as an output.\n",
    "\n",
    "![quantum circuit](../img/daily2.png)\n",
    "\n",
    "## Challenge code\n",
    "\n",
    "In the code below, you are given a function called `circuit`. **You must complete this function** by specifying a device, turning `circuit` into a QNode, and providing the appropriate gates.\n",
    "\n",
    "Here are some helpful resources:\n",
    "\n",
    "- Creating a quantum circuit — YouTube video\n",
    "- Basic tutorial: qubit rotation\n",
    "- Quantum circuits in PennyLane\n",
    "\n",
    "### Input\n",
    "\n",
    "As input to this problem, you are given two `angles` (`list(float)`). The first and second entries of `angles` correspond to $\\theta_0$ and $\\theta_1$ in the diagram above.\n",
    "\n",
    "### Output\n",
    "\n",
    "This code must output the probabilities (`numpy.tensor`) resulting from the quantum circuit pictured above.\n",
    "\n",
    "If your solution matches the correct one within the given tolerance specified in `check` (in this case it's a `1e-4` relative error tolerance), the output will be `\"Correct!\"` Otherwise, you will receive a `\"Wrong answer\"` prompt.\n",
    "\n",
    "Good luck!\n",
    "\n",
    "### Code"
   ]
  },
  {
   "cell_type": "code",
   "execution_count": 1,
   "id": "685cbcaa",
   "metadata": {},
   "outputs": [],
   "source": [
    "import json\n",
    "import pennylane as qml\n",
    "import pennylane.numpy as np"
   ]
  },
  {
   "cell_type": "code",
   "execution_count": 2,
   "id": "925c7419",
   "metadata": {},
   "outputs": [],
   "source": [
    "# Put your code here #\n",
    "\n",
    "# Create a default.qubit device with 2 qubits / wires using qml.device\n",
    "dev = qml.device(\"default.qubit\", wires=2)\n",
    "\n",
    "# Turn your circuit into a QNode\n",
    "@qml.qnode(dev)\n",
    "def circuit(angles):\n",
    "    \"\"\"The quantum circuit that you will simulate.\n",
    "\n",
    "    Args:\n",
    "        angles (list(float)): The gate angles in the circuit.\n",
    "\n",
    "    Returns:\n",
    "        (numpy.tensor): \n",
    "            The probability vector of the underlying quantum state that this circuit produces.\n",
    "    \"\"\"\n",
    "    # Put the rotation gates here\n",
    "    qml.RY(angles[0], wires=0)\n",
    "    qml.RY(angles[1], wires=1)\n",
    "    return qml.probs(wires=[0, 1])"
   ]
  },
  {
   "cell_type": "code",
   "execution_count": 3,
   "id": "980312a8",
   "metadata": {},
   "outputs": [],
   "source": [
    "# These functions are responsible for testing the solution. \n",
    "def run(test_case_input: str) -> str:\n",
    "    angles = json.loads(test_case_input)\n",
    "    output = circuit(angles).tolist()\n",
    "\n",
    "    return str(output)\n",
    "\n",
    "def check(solution_output: str, expected_output: str) -> None:\n",
    "    solution_output = json.loads(solution_output)\n",
    "    expected_output = json.loads(expected_output)\n",
    "    assert np.allclose(solution_output, expected_output, rtol=1e-4)"
   ]
  },
  {
   "cell_type": "code",
   "execution_count": 4,
   "id": "bee2155c",
   "metadata": {},
   "outputs": [],
   "source": [
    "test_cases = [['[1.23, 4.56]', '[0.2829251572359589, 0.3841937063262924, 0.1411749135148633, 0.19170622292288542]']]"
   ]
  },
  {
   "cell_type": "code",
   "execution_count": 5,
   "id": "8d842d5a",
   "metadata": {},
   "outputs": [
    {
     "name": "stdout",
     "output_type": "stream",
     "text": [
      "Running test case 0 with input '[1.23, 4.56]'...\n",
      "Correct!\n"
     ]
    }
   ],
   "source": [
    "for i, (input_, expected_output) in enumerate(test_cases):\n",
    "    print(f\"Running test case {i} with input '{input_}'...\")\n",
    "\n",
    "    try:\n",
    "        output = run(input_)\n",
    "\n",
    "    except Exception as exc:\n",
    "        print(f\"Runtime Error. {exc}\")\n",
    "\n",
    "    else:\n",
    "        if message := check(output, expected_output):\n",
    "            print(f\"Wrong Answer. Have: '{output}'. Want: '{expected_output}'.\")\n",
    "\n",
    "        else:\n",
    "            print(\"Correct!\")"
   ]
  }
 ],
 "metadata": {
  "kernelspec": {
   "display_name": "pennylane",
   "language": "python",
   "name": "pennylane"
  },
  "language_info": {
   "codemirror_mode": {
    "name": "ipython",
    "version": 3
   },
   "file_extension": ".py",
   "mimetype": "text/x-python",
   "name": "python",
   "nbconvert_exporter": "python",
   "pygments_lexer": "ipython3",
   "version": "3.11.2"
  }
 },
 "nbformat": 4,
 "nbformat_minor": 5
}
