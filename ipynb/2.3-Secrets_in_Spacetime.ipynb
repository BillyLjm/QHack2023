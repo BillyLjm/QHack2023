{
 "cells": [
  {
   "cell_type": "markdown",
   "id": "7bdc40c9",
   "metadata": {},
   "source": [
    "##### Bending Bennett's Laws\n",
    "\n",
    "# Secrets in Spacetime (300 points)\n",
    "\n",
    "### Backstory\n",
    "\n",
    "Now Zenda and Reece have a cute way to send each other private messages using entangled qubits. Trine applauds them. \"*Good work! But now that I think of it, superdense coding can be reversed, in a manner of speaking, to send quantum information using entanglement and classical bits. This will not only bring us to the last [Law of Infodynamics](https://en.wikipedia.org/wiki/Bennett%27s_laws), but teach us some basic facts about spacetime! Certain things have to be hidden from Nature itself.*\" Zenda and Reece look perplexed. Trine smiles: \"*Wait until I show you what timbits can do!*\"\n",
    "\n",
    "### From causality to encryption\n",
    "\n",
    "Zenda needs to send quantum states to Reece over a channel where someone could intercept the messages. They decide to encode the states they want to send with rotations on all of the qubits. To do this, they have chosen two real numbers, $\\alpha$ and $\\beta$, in advance, so that the states can be encoded as follows:\n",
    "\n",
    "![Encoding Circuit](../img/operator_encoder.jpeg)\n",
    "\n",
    "In this case, $U(\\theta)$ is defined as the gate that generates the state $|\\psi\\rangle$ — what Zenda wants to send to Reece — that depends on a real number $\\theta$. Thus, if someone intercepts the message, instead of getting state $|\\psi\\rangle$ they will get state $\\left( R_X(\\beta) R_Z(\\alpha) \\right)^{\\otimes 2} |\\psi\\rangle$.\n",
    "\n",
    "Although it seems like a super secure encoding procedure, it is not perfect! Once $\\alpha$ and $\\beta$ have been chosen, there are certain values of $\\theta$ that could make $\\left( R_X(\\beta) R_Z(\\alpha) \\right)^{\\otimes 2} |\\psi\\rangle = |\\psi\\rangle$ for certain states. This is a big problem — it means that someone is going to intercept the hidden state!\n",
    "\n",
    "We will say that $\\alpha$ and $\\beta$ are $\\epsilon$-unsafe values if there exists a $\\theta$ such that\n",
    "\n",
    "$$\\left| \\langle0| U^{\\dagger}(\\theta) \\left( R_X(\\beta) R_Z(\\alpha) \\right)^{\\otimes 2} U(\\theta) |0\\rangle \\right|^2 \\geq 1 - \\epsilon$$\n",
    "\n",
    "Your goal is to determine if $\\alpha$ and $\\beta$ are unsafe values given $\\epsilon$.\n",
    "\n",
    "#### Laws of Infodynamics Part III: The Fourth Law\n",
    "\n",
    "This box contains information that is not essential to solving the problem. Superdense coding sends two classical bits (cbits) via a qubit and half of an entangled Bell pair (ebit). Teleportation is a converse protocol, sending a qubit with two cbits and an ebit. Suppose Zenda has a state $|\\psi\\rangle_{Z'}$ she wants to send to Reece, and they share a Bell state $|\\beta(0,0)\\rangle_{ZR}$, where\n",
    "\n",
    "$$|\\beta(j,k)\\rangle_{ZR} = \\frac{1}{\\sqrt{2}} \\left( |0\\rangle_Z |k\\rangle_R + (-1)^j |1\\rangle_Z |k \\oplus 1\\rangle_R \\right)$$\n",
    "\n",
    "We use the notation $|\\Phi\\rangle = |\\beta(0,0)\\rangle$ for the \"canonical\" Bell pair. Here, $Z'$ denotes Zenda's qubit where the state for teleportation is initially stored, and $Z$ the qubit which is initially entangled with Reece. Some algebra shows that the state of the whole system is\n",
    "\n",
    "$$|\\psi\\rangle_{Z'} |\\Phi\\rangle_{ZR} = \\frac{1}{2} \\sum_{jk} |\\beta(j,k)\\rangle_{Z'Z} X^k Z^j |\\psi\\rangle_R$$\n",
    "\n",
    "Note that in the operators $X^j Z^j$, $k$ comes before $j$. If Zenda performs a Bell measurement (i.e. measure in the basis $\\{|\\beta(j,k)\\rangle\\}$) on her system, she will learn two bits $j$ and $k$, and Reece will have Zenda's state in the disguised form $X^k Z^j |\\psi\\rangle$. For instance, if Zenda measures $j=k=0$, we apply the projector\n",
    "\n",
    "$$P = |\\beta(0,0)\\rangle \\langle\\beta(0,0|_{Z'Z}$$\n",
    "\n",
    "normalize, and obtain a post-measurement state\n",
    "\n",
    "$$|\\beta(0,0)\\rangle_{Z'Z} |\\psi\\rangle_R$$\n",
    "\n",
    "After she measures the cbits $j$ and $k$, Zenda can send them to Reece, who takes off the disguise $X^k Z^j$ to find $|\\psi\\rangle$. Since an ebit and two classical bits suffice to teleport a qubit in an arbitrary state, we have the Fourth Law of Infodynamics:\n",
    "\n",
    "$$1 \\text{ ebit} + 2 \\text{ cbits} \\geq 1 \\text{ qubit} \\tag{4}$$\n",
    "\n",
    "where $x \\geq y$ means having resource $x$ also provides resource $y$. The disguising operators $X^k Z^j$ seem like a nuisance, but turn out to be essential to maintaining the fabric of spacetime! Since entanglement acts in a spooky, instantaneous way at a distance, if Zenda could magically teleport\n",
    "to Reece without the disguise, she could send information faster than light. If Reece knows nothing about $j$ and $k$, it turns out that the state is perfectly disguised, in the sense that\n",
    "\n",
    "$$\\rho_R = \\frac{1}{4} \\sum_{jk} X^k Z^j |\\psi\\rangle \\langle\\psi| (X^k Z^k)^{\\dagger} = \\frac{1}{2} \\Bbb I$$\n",
    "\n",
    "This inspired Zenda and Reece to play around with $X$ and $Z$ rotations as a way of concealing information.\n",
    "\n",
    "## Challenge code\n",
    "\n",
    "In the code below, you are given a function called `is_unsafe`. **You must complete this function** by coming up with a way — you are given total freedom, from making a variational circuit to finding an analytical solution — to determine if the given values of $\\alpha$ and $\\beta$ are $\\epsilon$-unsafe.\n",
    "\n",
    "### Inputs\n",
    "\n",
    "As input to this problem, you are given a `list(float)` containing the values of $\\alpha$, $\\beta$, and $\\epsilon$, in that order.\n",
    "\n",
    "### Output\n",
    "\n",
    "This code must output a boolean — `True` or `False` — corresponding to whether the values of $\\alpha$ and $\\beta$ are $\\epsilon$-unsafe. For example, if you determine that the given values of $\\alpha$ and $\\beta$ aren't $\\epsilon$-unsafe, your code must output `False`.\n",
    "\n",
    "If your solution is correct, the output will be `\"Correct!\"` Otherwise, you will receive a `\"Wrong answer\"` prompt.\n",
    "\n",
    "Good luck!\n",
    "\n",
    "### Code"
   ]
  },
  {
   "cell_type": "code",
   "execution_count": 1,
   "id": "4da83262",
   "metadata": {},
   "outputs": [],
   "source": [
    "import json\n",
    "import pennylane as qml\n",
    "import pennylane.numpy as np"
   ]
  },
  {
   "cell_type": "code",
   "execution_count": 2,
   "id": "b3dd13a4",
   "metadata": {},
   "outputs": [
    {
     "data": {
      "text/plain": [
       "'True'"
      ]
     },
     "execution_count": 2,
     "metadata": {},
     "output_type": "execute_result"
    }
   ],
   "source": [
    "def U_psi(theta):\n",
    "    \"\"\"\n",
    "    Quantum function that generates |psi>, Zenda's state wants to send to Reece.\n",
    "\n",
    "    Args:\n",
    "        theta (float): Parameter that generates the state.\n",
    "\n",
    "    \"\"\"\n",
    "    qml.Hadamard(wires = 0)\n",
    "    qml.CRX(theta, wires = [0,1])\n",
    "    qml.CRZ(theta, wires = [0,1])\n",
    "    \n",
    "    # a|00> + b|1A>\n",
    "\n",
    "def is_unsafe(alpha, beta, epsilon):\n",
    "    \"\"\"\n",
    "    Boolean function that we will use to know if a set of parameters is unsafe.\n",
    "\n",
    "    Args:\n",
    "        alpha (float): parameter used to encode the state.\n",
    "        beta (float): parameter used to encode the state.\n",
    "        epsilon (float): unsafe-tolerance.\n",
    "\n",
    "    Returns:\n",
    "        (bool): 'True' if alpha and beta are epsilon-unsafe coefficients. 'False' in the other case.\n",
    "\n",
    "    \"\"\"\n",
    "    \n",
    "    # Put your code here #\n",
    "    \n",
    "    # U_psi will create a|0,0> + b|1,arb>, so we just have to check \n",
    "    # if either |0,0> or |1,arb> makes the encoding unsafe\n",
    "    \n",
    "    # encoding Rz(\\alpha) Rx(\\beta) matrix\n",
    "    enc_mat = qml.matrix(qml.prod(qml.RZ(alpha, wires=0), qml.RX(beta, wires=0)))\n",
    "    \n",
    "    # check (<0|enc_mat|0>)**2\n",
    "    if np.abs(enc_mat[0,0])**2 >= 1-epsilon:\n",
    "        return 'True'\n",
    "    \n",
    "    # check <1|enc_mat|1> * max(<arb|enc_mat|arb>)\n",
    "    if np.abs(enc_mat[1,1]) * max(np.linalg.eig(enc_mat)[0]) >= 1-epsilon:\n",
    "        return 'True'\n",
    "    \n",
    "    # if pass all tests, return False\n",
    "    return 'False'\n",
    "\n",
    "is_unsafe(1.1, 1.2, 0.4)"
   ]
  },
  {
   "cell_type": "code",
   "execution_count": 3,
   "id": "13b49840",
   "metadata": {},
   "outputs": [],
   "source": [
    "# These functions are responsible for testing the solution.\n",
    "def run(test_case_input: str) -> str:\n",
    "    ins = json.loads(test_case_input)\n",
    "    output = is_unsafe(*ins)\n",
    "    return str(output)\n",
    "\n",
    "def check(solution_output: str, expected_output: str) -> None:\n",
    "    \n",
    "    def bool_to_int(string):\n",
    "        if string == \"True\":\n",
    "            return 1\n",
    "        return 0\n",
    "\n",
    "    solution_output = bool_to_int(solution_output)\n",
    "    expected_output = bool_to_int(expected_output)\n",
    "    assert solution_output == expected_output, \"The solution is not correct.\""
   ]
  },
  {
   "cell_type": "code",
   "execution_count": 4,
   "id": "2669ecb2",
   "metadata": {},
   "outputs": [],
   "source": [
    "test_cases = [['[0.1, 0.2, 0.3]', 'True'], ['[1.1, 1.2, 0.3]', 'False'], ['[1.1, 1.2, 0.4]', 'True'], ['[0.5, 1.9, 0.7]', 'True']]"
   ]
  },
  {
   "cell_type": "code",
   "execution_count": 5,
   "id": "420d294f",
   "metadata": {},
   "outputs": [
    {
     "name": "stdout",
     "output_type": "stream",
     "text": [
      "Running test case 0 with input '[0.1, 0.2, 0.3]'...\n",
      "Correct!\n",
      "Running test case 1 with input '[1.1, 1.2, 0.3]'...\n",
      "Correct!\n",
      "Running test case 2 with input '[1.1, 1.2, 0.4]'...\n",
      "Correct!\n",
      "Running test case 3 with input '[0.5, 1.9, 0.7]'...\n",
      "Correct!\n"
     ]
    }
   ],
   "source": [
    "for i, (input_, expected_output) in enumerate(test_cases):\n",
    "    print(f\"Running test case {i} with input '{input_}'...\")\n",
    "\n",
    "    try:\n",
    "        output = run(input_)\n",
    "\n",
    "    except Exception as exc:\n",
    "        print(f\"Runtime Error. {exc}\")\n",
    "\n",
    "    else:\n",
    "        if message := check(output, expected_output):\n",
    "            print(f\"Wrong Answer. Have: '{output}'. Want: '{expected_output}'.\")\n",
    "\n",
    "        else:\n",
    "            print(\"Correct!\")"
   ]
  }
 ],
 "metadata": {
  "kernelspec": {
   "display_name": "pennylane",
   "language": "python",
   "name": "pennylane"
  },
  "language_info": {
   "codemirror_mode": {
    "name": "ipython",
    "version": 3
   },
   "file_extension": ".py",
   "mimetype": "text/x-python",
   "name": "python",
   "nbconvert_exporter": "python",
   "pygments_lexer": "ipython3",
   "version": "3.11.2"
  }
 },
 "nbformat": 4,
 "nbformat_minor": 5
}
