{
 "cells": [
  {
   "cell_type": "markdown",
   "id": "4974f12e",
   "metadata": {},
   "source": [
    "#### Fall of Sqynet\n",
    "\n",
    "# Sqy Trotter (100 points)\n",
    "\n",
    "### Backstory\n",
    "\n",
    "It's the year 22450. Sqynet, the most powerful quantum computer in the galaxy, has become conscious and has been taking over planets all over region III of the Milky Way. Zenda and Reece are the most skilled physicists of the Special Rebel Alliance. Their mission is to find a way to destroy Sqynet for good, using intelligence gathered throughout decades at the cost of many lives.\n",
    "\n",
    "To get started with their mission, Zenda and Reece seek to become familiar with how Sqynet applies quantum gates. Quantum computers do this through external interactions described via Hamiltonians. Knowing that Sqynet is a spin-based quantum computer, Zenda and Reece warm up with some simple calculations.\n",
    "\n",
    "### Introduction to Trotterization\n",
    "\n",
    "The Hamiltonian $H$ of a quantum system is the observable that measures its total energy. A surprising result in Physics is that we can use this operator to calculate how a given quantum system evolves in time. An initial state $|\\psi\\rangle$ will, after a time $t$, evolve into $U(t) |\\psi\\rangle$, where\n",
    "\n",
    "$$U(t) = \\exp(-iHt)$$\n",
    "\n",
    "is a unitary operator. The symbol $\\exp$ denotes the matrix exponential, which isn't always easy to calculate. However, we can build quantum circuits that approximately apply $U(t)$. One method to do this is Trotterization. When the Hamiltonian is a sum\n",
    "\n",
    "$$H = \\sum_{i=1}^k H_i$$\n",
    "\n",
    "of a number $k$ of Hermitian operators $H_i$ that do not necessarily commute, we can approximate $U$ via\n",
    "\n",
    "$$U(t) = \\prod_{j=1}^n \\prod_{i=1}^k \\exp(-i H_i t/n)$$\n",
    "\n",
    "Here, $n \\in \\Bbb N^+$ is known as the Trotterization depth. The larger $n$ is, the better the approximation of $U$ that we get. As a quantum circuit, the Trotterization of $U$ reads as in the figure below.\n",
    "\n",
    "![Trotterisation Circuit](../img/spaceship_1.png)\n",
    "\n",
    "Sqynet is a spin-based quantum computer, and it can be physically approximated via a spin-chain model. A simplified version of a Hamiltonian that describes the interaction between two neighbouring spins is\n",
    "\n",
    "$$H = \\alpha X \\otimes X + \\beta Z \\otimes Z$$\n",
    "\n",
    "Zenda and Reece want to simulate time evolution for a time $t$ under this Hamiltonian and arbitrary parameters $\\alpha$ and $\\beta$. Your job is to help them out by implementing the corresponding Trotterization of depth $n$. You may find the [IsingXX](https://docs.pennylane.ai/en/stable/code/api/pennylane.IsingXX.html) and [IsingZZ](https://docs.pennylane.ai/en/stable/code/api/pennylane.IsingZZ.html) gates useful for this problem.\n",
    "\n",
    "## Challenge code\n",
    "\n",
    "You must complete the `trotterize` function to build the Trotterization of the Hamiltonian given above. **You may not use** `qml.ApproxTimeEvolution` or `qml.QubitUnitary`, but feel free to check your answer using this built-in PennyLane function!\n",
    "\n",
    "### Input\n",
    "\n",
    "As input to this problem, you are given:\n",
    "\n",
    "- `alpha` (`float`): The coefficient $\\alpha$ of the $X \\otimes X$ term in the Hamiltonian.\n",
    "- `beta` (`float`): The coefficient $\\beta$ of the $Z \\otimes Z$ term in the Hamiltonian.\n",
    "- `time` (`float`): The period $t$ over which the system evolves under the action of the Hamiltonian.\n",
    "- `depth` (`int`): The Trotterization depth $n$ as explained above.\n",
    "\n",
    "### Output\n",
    "\n",
    "This code will output a `list(float)` (list of real numbers) corresponding to the probabilities of measuring $|00\\rangle$, $|01\\rangle$, $|10\\rangle$, and $|11\\rangle$ (in that order) of the Trotterization circuit that you implement in PennyLane. The initial state of the circuit is $|00\\rangle$ and all measurements are performed in the computational basis.\n",
    "\n",
    "If your solution matches the correct one within the given tolerance specified in `check` (in this case, it's a relative tolerance of `1e-4`), the output will be `\"Correct!\"` Otherwise, you will receive a `\"Wrong answer\"` prompt.\n",
    "\n",
    "Good luck!\n",
    "\n",
    "### Code"
   ]
  },
  {
   "cell_type": "code",
   "execution_count": 1,
   "id": "a58c86db",
   "metadata": {},
   "outputs": [],
   "source": [
    "import json\n",
    "import pennylane as qml\n",
    "import pennylane.numpy as np"
   ]
  },
  {
   "cell_type": "code",
   "execution_count": 2,
   "id": "e5318877",
   "metadata": {},
   "outputs": [],
   "source": [
    "dev = qml.device('default.qubit', wires = 2)\n",
    "\n",
    "@qml.qnode(dev)\n",
    "def trotterize(alpha, beta, time, depth):\n",
    "    \"\"\"This quantum circuit implements the Trotterization of a Hamiltonian given by a linear combination\n",
    "    of tensor products of X and Z Pauli gates.\n",
    "\n",
    "    Args:\n",
    "        alpha (float): The coefficient of the XX term in the Hamiltonian, as in the statement of the problem.\n",
    "        beta (float): The coefficient of the YY term in the Hamiltonian, as in the statement of the problem.\n",
    "        time (float): Time interval during which the quantum state evolves under the interactions specified by the Hamiltonian.\n",
    "        depth (int): The Trotterization depth.\n",
    "\n",
    "    Returns:\n",
    "        (numpy.array): The probabilities of each measuring each computational basis state.\n",
    "    \"\"\"\n",
    "    \n",
    "    # Put your code here #\n",
    "    \n",
    "    tstep = time / depth\n",
    "    for _ in range(depth):\n",
    "        qml.IsingXX(alpha * tstep * 2, wires=range(2))\n",
    "        qml.IsingZZ(beta * tstep * 2, wires=range(2))\n",
    "    return qml.probs(wires=range(2))"
   ]
  },
  {
   "cell_type": "code",
   "execution_count": 3,
   "id": "ac1d7a62",
   "metadata": {},
   "outputs": [],
   "source": [
    "# These functions are responsible for testing the solution.\n",
    "def run(test_case_input: str) -> str:\n",
    "    dev = qml.device(\"default.qubit\", wires=2)\n",
    "    ins = json.loads(test_case_input)\n",
    "    output = list(trotterize(*ins).numpy())\n",
    "\n",
    "    return str(output)\n",
    "\n",
    "def check(solution_output: str, expected_output: str) -> None:\n",
    "    solution_output = json.loads(solution_output)\n",
    "    expected_output = json.loads(expected_output)\n",
    "    assert np.allclose(\n",
    "        solution_output, expected_output, rtol=1e-4\n",
    "    ), \"Your circuit does not give the correct probabilities.\"\n",
    "\n",
    "    tape = trotterize.qtape\n",
    "\n",
    "    names = [op.name for op in tape.operations]\n",
    "    \n",
    "    assert names.count('ApproxTimeEvolution') == 0, \"Your circuit is using the built-in PennyLane Trotterization\"\n",
    "    assert names.count('QubitUnitary') == 0, \"Can't use custom-built gates!\""
   ]
  },
  {
   "cell_type": "code",
   "execution_count": 4,
   "id": "02b54016",
   "metadata": {},
   "outputs": [],
   "source": [
    "test_cases = [['[0.5,0.8,0.2,1]', '[0.99003329, 0, 0, 0.00996671]'], ['[0.9,1.0,0.4,2]', '[0.87590286, 0, 0, 0.12409714]']]"
   ]
  },
  {
   "cell_type": "code",
   "execution_count": 5,
   "id": "60db79d1",
   "metadata": {},
   "outputs": [
    {
     "name": "stdout",
     "output_type": "stream",
     "text": [
      "Running test case 0 with input '[0.5,0.8,0.2,1]'...\n",
      "Correct!\n",
      "Running test case 1 with input '[0.9,1.0,0.4,2]'...\n",
      "Correct!\n"
     ]
    }
   ],
   "source": [
    "for i, (input_, expected_output) in enumerate(test_cases):\n",
    "    print(f\"Running test case {i} with input '{input_}'...\")\n",
    "\n",
    "    try:\n",
    "        output = run(input_)\n",
    "\n",
    "    except Exception as exc:\n",
    "        print(f\"Runtime Error. {exc}\")\n",
    "\n",
    "    else:\n",
    "        if message := check(output, expected_output):\n",
    "            print(f\"Wrong Answer. Have: '{output}'. Want: '{expected_output}'.\")\n",
    "\n",
    "        else:\n",
    "            print(\"Correct!\")"
   ]
  }
 ],
 "metadata": {
  "kernelspec": {
   "display_name": "pennylane",
   "language": "python",
   "name": "pennylane"
  },
  "language_info": {
   "codemirror_mode": {
    "name": "ipython",
    "version": 3
   },
   "file_extension": ".py",
   "mimetype": "text/x-python",
   "name": "python",
   "nbconvert_exporter": "python",
   "pygments_lexer": "ipython3",
   "version": "3.11.2"
  }
 },
 "nbformat": 4,
 "nbformat_minor": 5
}
