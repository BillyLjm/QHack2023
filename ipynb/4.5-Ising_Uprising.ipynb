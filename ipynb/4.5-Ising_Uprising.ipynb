{
 "cells": [
  {
   "cell_type": "markdown",
   "id": "ccd9f7a9",
   "metadata": {},
   "source": [
    "# Fall of Sqynet\n",
    "\n",
    "# Ising Uprising (500 points)\n",
    "\n",
    "### Backstory\n",
    "\n",
    "Zenda and Reece model Sqynet as a spin chain, and they come up with a strategy. What if, in addition to using plasma bombs and missiles to increase the temperature of the device, they use a strong magnetic field? After all, magnetic fields might pass through Sqynet's outer shell more easily. The scientists proceed to simulate the effect of a magnetic field on a closed spin chain to quantify the effects.\n",
    "\n",
    "### Ground state of an Ising spin chain\n",
    "\n",
    "A simple way to model Sqynet is by considering it as a closed spin chain of length $N$. A spin chain contains particles of spin $1/2$ in each of its\n",
    "sites. The spins may be pointing in the positive or negative $z$ direction, and we consider that there may be an external magnetic field acting on the system.\n",
    "\n",
    "![Ising Spin Chain](../img/spaceship_4.png)\n",
    "\n",
    "Such a quantum system is described by the *Transverse Ising Hamiltonian*. For closed spin chain with a transverse magnetic field of intensity $h$, the Transverse Ising Hamiltonian reads\n",
    "\n",
    "$$H = -\\sum_{i=1}^N Z_i \\otimes Z_{i+1} - h \\sum_{i=1}^N X_i$$\n",
    "\n",
    "The subindices $i$ indicate the spin site where the operators act. In a closed spin chain, we identify site $N+1$ with the first site.\n",
    "\n",
    "A possible plan for Zenda and Reece is to use a strong magnetic field that changes the ground energy of Sqynet, causing it to malfunction.\n",
    "\n",
    "Your task is to help Zenda and Reece calculate the effect of external magnetic forces on the ground energy. Using the Variational Quantum Eigensolver (VQE) algorithm, you will compute the ground energy of a closed spin chain of length $N=4$.\n",
    "\n",
    "#### Epilogue\n",
    "\n",
    "Zenda and Reece fire their powerful magnetic field, missiles, and bombs into the tangle of spins that is Sqynet. As its wavefunction starts to collapse, reality around them shimmers and shifts, and they are enveloped in the purple smoke characteristic of the Oracle World Transform.\n",
    "\n",
    "The smoke clears. The Bloch clock is ticking; they are late for their weekly brainstorming session at Trine's Designs. Trine is fussing excitedly with the new coffee machine. The network is patchy. Zenda and Reece smile at each other. There are far worse things, they realize, than business as usual.\n",
    "\n",
    "## Challenge code\n",
    "\n",
    "In this challenge you will be given the following functions:\n",
    "\n",
    "- `create_Hamiltonian`: In which you build the Transverse Ising Hamiltonian for $N=4$ and a magnetic field intensity `h`. **You must complete this function**.\n",
    "- `model`: This QNode builds a general enough ansatz for the ground state. This circuit must depend on some parameters `params`, which you will later optimize. It returns the expectation value of the Hamiltonian for the output state of the circuit. **You must complete this function**.\n",
    "- `train`: This function returns the parameters that minimize the output of `model`. **You must complete this function**.\n",
    "\n",
    "### Input\n",
    "\n",
    "As input to this problem, you are given:\n",
    "\n",
    "- `h` (`float`): Magnetic field intensity applied to the spin chain.\n",
    "\n",
    "### Output\n",
    "\n",
    "This code will output a `float` corresponding to the energy of the ground state.\n",
    "\n",
    "If your solution matches the correct one within the given tolerance specified in `check` (in this case it's an relative tolerance of `0.1`), the output will be `\"Correct!\"` Otherwise, you will receive a `\"Wrong answer\"` prompt.\n",
    "\n",
    "Good luck!\n",
    "\n",
    "### Code"
   ]
  },
  {
   "cell_type": "code",
   "execution_count": 1,
   "id": "bc5aaf88",
   "metadata": {},
   "outputs": [],
   "source": [
    "import json\n",
    "import pennylane as qml\n",
    "import pennylane.numpy as np"
   ]
  },
  {
   "cell_type": "code",
   "execution_count": 2,
   "id": "7d69f1d4",
   "metadata": {},
   "outputs": [
    {
     "name": "stdout",
     "output_type": "stream",
     "text": [
      "  (-0.1) [X0]\n",
      "+ (-0.1) [X1]\n",
      "+ (-0.1) [X2]\n",
      "+ (-0.1) [X3]\n",
      "+ (-1) [Z0 Z1]\n",
      "+ (-1) [Z1 Z2]\n",
      "+ (-1) [Z2 Z3]\n",
      "+ (-1) [Z3 Z0]\n"
     ]
    }
   ],
   "source": [
    "def create_Hamiltonian(h):\n",
    "    \"\"\"\n",
    "    Function in charge of generating the Hamiltonian of the statement.\n",
    "\n",
    "    Args:\n",
    "        h (float): magnetic field strength\n",
    "\n",
    "    Returns:\n",
    "        (qml.Hamiltonian): Hamiltonian of the statement associated to h\n",
    "    \"\"\"\n",
    "    \n",
    "    # Put your code here #\n",
    "    \n",
    "    N = 4 # number of spins in chain\n",
    "    obs = [qml.PauliZ(i) @ qml.PauliZ((i+1)%N) for i in range(N)]\n",
    "    coeffs = [-1] * N\n",
    "    obs += [qml.PauliX(i) for i in range(N)]\n",
    "    coeffs += [-h] * N\n",
    "    return qml.Hamiltonian(coeffs, obs)\n",
    "    \n",
    "create_Hamiltonian(0.1)"
   ]
  },
  {
   "cell_type": "code",
   "execution_count": 3,
   "id": "ca07245c",
   "metadata": {},
   "outputs": [
    {
     "name": "stdout",
     "output_type": "stream",
     "text": [
      "0: ──RX(0.00)─╭●───────╭X──RY(4.00)─╭●───────╭X──RZ(8.00)──┤ ╭<𝓗>\n",
      "1: ──RX(1.00)─╰X─╭●────│───RY(5.00)─╰X─╭●────│───RZ(9.00)──┤ ├<𝓗>\n",
      "2: ──RX(2.00)────╰X─╭●─│───RY(6.00)────╰X─╭●─│───RZ(10.00)─┤ ├<𝓗>\n",
      "3: ──RX(3.00)───────╰X─╰●──RY(7.00)───────╰X─╰●──RZ(11.00)─┤ ╰<𝓗>\n"
     ]
    },
    {
     "data": {
      "text/plain": [
       "tensor(-0.42358779, requires_grad=True)"
      ]
     },
     "execution_count": 3,
     "metadata": {},
     "output_type": "execute_result"
    }
   ],
   "source": [
    "dev = qml.device(\"default.qubit\", wires=4)\n",
    "\n",
    "@qml.qnode(dev)\n",
    "def model(params, H):\n",
    "    \"\"\"\n",
    "    To implement VQE you need an ansatz for the candidate ground state!\n",
    "    Define here the VQE ansatz in terms of some parameters (params) that\n",
    "    create the candidate ground state. These parameters will\n",
    "    be optimized later.\n",
    "\n",
    "    Args:\n",
    "        params (numpy.array): parameters to be used in the variational circuit\n",
    "        H (qml.Hamiltonian): Hamiltonian used to calculate the expected value\n",
    "\n",
    "    Returns:\n",
    "        (float): Expected value with respect to the Hamiltonian H\n",
    "    \"\"\"\n",
    "    \n",
    "    # Put your code here #\n",
    "    \n",
    "    n = len(dev.wires)\n",
    "    \n",
    "    for i in range(n):\n",
    "        qml.RX(params[i], wires=i)\n",
    "    for i in range(n):\n",
    "        qml.CNOT(wires=[i,(i+1)%n])\n",
    "    for i in range(n):\n",
    "        qml.RY(params[i+n], wires=i)\n",
    "    for i in range(n):\n",
    "        qml.CNOT(wires=[i,(i+1)%n])\n",
    "    for i in range(n):\n",
    "        qml.RZ(params[i+2*n], wires=i)\n",
    "    \n",
    "    return qml.expval(H)\n",
    "\n",
    "print(qml.draw(model)(range(12), create_Hamiltonian(0.1)))\n",
    "model([1]*12, create_Hamiltonian(0.1))"
   ]
  },
  {
   "cell_type": "code",
   "execution_count": 4,
   "id": "59d386b6",
   "metadata": {},
   "outputs": [
    {
     "data": {
      "text/plain": [
       "tensor([-4.56258180e-02,  2.37991617e-03, -4.14238014e-04,\n",
       "         1.05232329e-08,  4.62801568e-02,  1.19973697e+00,\n",
       "         4.65928572e-02,  2.56820802e-03,  1.06368902e-03,\n",
       "         3.88244917e-14,  1.37325166e+00, -2.70435824e-01], requires_grad=True)"
      ]
     },
     "execution_count": 4,
     "metadata": {},
     "output_type": "execute_result"
    }
   ],
   "source": [
    "def train(h):\n",
    "    \"\"\"\n",
    "    In this function you must design a subroutine that returns the\n",
    "    parameters that best approximate the ground state.\n",
    "\n",
    "    Args:\n",
    "        h (float): magnetic field strength\n",
    "\n",
    "    Returns:\n",
    "        (numpy.array): parameters that best approximate the ground state.\n",
    "    \"\"\"\n",
    "    \n",
    "    # Put your code here #\n",
    "    \n",
    "    H = create_Hamiltonian(h)\n",
    "    params = np.random.rand(12, requires_grad=True)\n",
    "\n",
    "    # optimising loop\n",
    "    opt = qml.AdagradOptimizer(stepsize=0.1)\n",
    "    for _ in range(200): # max iterations\n",
    "        params = opt.step(lambda x: model(x, H), params)\n",
    "    \n",
    "    return params\n",
    "\n",
    "train(0.1)"
   ]
  },
  {
   "cell_type": "code",
   "execution_count": 5,
   "id": "801d85e3",
   "metadata": {},
   "outputs": [],
   "source": [
    "# These functions are responsible for testing the solution.\n",
    "def run(test_case_input: str) -> str:\n",
    "    ins = json.loads(test_case_input)\n",
    "    params = train(ins)\n",
    "    print(str(model(params, create_Hamiltonian(ins))))\n",
    "    return str(model(params, create_Hamiltonian(ins)))\n",
    "\n",
    "\n",
    "def check(solution_output: str, expected_output: str) -> None:\n",
    "    solution_output = json.loads(solution_output)\n",
    "    expected_output = json.loads(expected_output)\n",
    "    assert np.allclose(\n",
    "        solution_output, expected_output, rtol=1e-1\n",
    "    ), \"The expected value is not correct.\""
   ]
  },
  {
   "cell_type": "code",
   "execution_count": 6,
   "id": "7a275632",
   "metadata": {},
   "outputs": [],
   "source": [
    "test_cases = [['1.0', '-5.226251859505506'], ['2.3', '-9.66382463698038']]"
   ]
  },
  {
   "cell_type": "code",
   "execution_count": 7,
   "id": "2d1c058b",
   "metadata": {},
   "outputs": [
    {
     "name": "stdout",
     "output_type": "stream",
     "text": [
      "Running test case 0 with input '1.0'...\n",
      "-4.901622284497634\n",
      "Correct!\n",
      "Running test case 1 with input '2.3'...\n",
      "-9.523950269597668\n",
      "Correct!\n"
     ]
    }
   ],
   "source": [
    "for i, (input_, expected_output) in enumerate(test_cases):\n",
    "    print(f\"Running test case {i} with input '{input_}'...\")\n",
    "\n",
    "    try:\n",
    "        output = run(input_)\n",
    "\n",
    "    except Exception as exc:\n",
    "        print(f\"Runtime Error. {exc}\")\n",
    "\n",
    "    else:\n",
    "        if message := check(output, expected_output):\n",
    "            print(f\"Wrong Answer. Have: '{output}'. Want: '{expected_output}'.\")\n",
    "\n",
    "        else:\n",
    "            print(\"Correct!\")"
   ]
  }
 ],
 "metadata": {
  "kernelspec": {
   "display_name": "pennylane",
   "language": "python",
   "name": "pennylane"
  },
  "language_info": {
   "codemirror_mode": {
    "name": "ipython",
    "version": 3
   },
   "file_extension": ".py",
   "mimetype": "text/x-python",
   "name": "python",
   "nbconvert_exporter": "python",
   "pygments_lexer": "ipython3",
   "version": "3.11.2"
  }
 },
 "nbformat": 4,
 "nbformat_minor": 5
}
