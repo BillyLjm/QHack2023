{
 "cells": [
  {
   "cell_type": "markdown",
   "id": "ac928fa4",
   "metadata": {},
   "source": [
    "##### Office Hijinks\n",
    "\n",
    "# The Super Parameter (200 points)\n",
    "\n",
    "### Backstory\n",
    "\n",
    "At Trine's Designs, the coffee machine is a programmable quantum device. It has three dials that tell the machine the type of drink it will prepare. However, two of the dials are broken. Trine, the CEO, is in despair: \"Coffee is *essential for employees to function optimally*.\" So, as a provisional solution while they contact the manufacturer, Trine calls Zenda and Reece to quickly reprogram the device so that it works with only one dial.\n",
    "\n",
    "### Expressivity in Quantum Machine Learning\n",
    "\n",
    "Within QML it is common to find the term expressivity, which refers to the size of all possible models that we can generate by varying our parameters. One way to increase the expressivity of our model family is usually by adding more parameters. However, this is not always a good thing, since increasing the number of parameters, and therefore the number of possible models, means that we have to perform our training on a very large set, making it more difficult to find the model that best suits our needs. Therefore, the real challenge of a good QML researcher is to find the smallest possible family of models that still contains the optimal solution. There is much more to the notion of expressivity, but in this challenge we are going to push the concept to its limits.\n",
    "\n",
    "Suppose that we are in the situation where we have 3 qubits and we know that the solution to our problem is a computational basis state, i.e. an element of the set\n",
    "\n",
    "$$\\mathcal{B} = \\left\\{ |000\\rangle, |001\\rangle, |010\\rangle, \\ldots, |111\\rangle \\right\\}$$\n",
    "\n",
    "We don't know exactly what the basis state is, so we would like to generate an ansatz expressive enough so that:\n",
    "\n",
    "$$\\begin{gather*}\n",
    "    U(\\vec{\\theta}_0) |000\\rangle = |000\\rangle\\\\\n",
    "    U(\\vec{\\theta}_1) |000\\rangle = |001\\rangle\\\\\n",
    "    U(\\vec{\\theta}_2) |000\\rangle = |010\\rangle\\\\\n",
    "    \\vdots\\\\\n",
    "    U(\\vec{\\theta}_7) |000\\rangle = |111\\rangle\\\\\n",
    "\\end{gather*}$$\n",
    "\n",
    "for certain values of $\\vec{\\theta}_i$. An example of ansatz that accomplishes this would be the following circuit:\n",
    "\n",
    "![Quantum Circuit Ansatz](../img/example_sol.jpeg)\n",
    "\n",
    "This is the fundamental concept in Basis embedding, where you can see that by taking $\\alpha$, $\\beta$, and $\\gamma$ properly, we can generate any basis state. However, this challenge is not going to be this easy. You are asked to build an ansatz that, with **only one parameter**, is able to generate all the basis states. To judge your solution, we will ask you to provide us with a list of the 8 values of the parameter that generate each of them. Good luck!\n",
    "\n",
    "## Challenge code\n",
    "\n",
    "You must complete the qnode `model` that will be in charge of obtaining different outputs. This model depends on a single parameter and you must ensure that it generates all the basis states. You must also define the function `generate_coefficients`, which will return a list with the 8 values of the parameter to generate these basis states.\n",
    "\n",
    "### Output\n",
    "\n",
    "To judge this challenge, the `generate_coefficients` function will be called first. With the output of this function (the eight coefficients), we will call the model to ensure that the generated states are the desired ones. In addition, we will check that:\n",
    "\n",
    "- The model is continuous (small modifications of the parameter imply small modifications of the generated state). By putting the parameter inside rotation gates you will have no problems with this.\n",
    "- The generated coefficients are in the interval \\[0,10\\]. Solutions that do not fit this interval will be considered incorrect.\n",
    "\n",
    "In this challenge, we will not work with public and private tests. We will simply check that all of the above is fulfilled. Good luck!\n",
    "\n",
    "### Code"
   ]
  },
  {
   "cell_type": "code",
   "execution_count": 1,
   "id": "50f113dd",
   "metadata": {},
   "outputs": [],
   "source": [
    "import json\n",
    "import pennylane as qml\n",
    "import pennylane.numpy as np"
   ]
  },
  {
   "cell_type": "code",
   "execution_count": 2,
   "id": "0f959d19",
   "metadata": {},
   "outputs": [],
   "source": [
    "dev = qml.device(\"default.qubit\", wires=3)"
   ]
  },
  {
   "cell_type": "code",
   "execution_count": 3,
   "id": "7e02cbe8",
   "metadata": {},
   "outputs": [
    {
     "data": {
      "text/plain": [
       "tensor([0., 0., 0., 0., 0., 1., 0., 0.], requires_grad=True)"
      ]
     },
     "execution_count": 3,
     "metadata": {},
     "output_type": "execute_result"
    }
   ],
   "source": [
    "@qml.qnode(dev)\n",
    "def model(alpha):\n",
    "    \"\"\"In this qnode you will define your model in such a way that there is a single \n",
    "    parameter alpha which returns each of the basic states.\n",
    "\n",
    "    Args:\n",
    "        alpha (float): The only parameter of the model.\n",
    "\n",
    "    Returns:\n",
    "        (numpy.tensor): The probability vector of the resulting quantum state.\n",
    "    \"\"\"\n",
    "    \n",
    "    # Put your code here #\n",
    "    \n",
    "    # if alpha \\in (0,1], we rotate from |000> to |001> to -|000>\n",
    "    # if alpha \\in (1,2], we rotate from |000> to |010> to -|000>\n",
    "    # if alpha \\in (2,3], we rotate from |000> to |011> to -|000>\n",
    "    # ...\n",
    "    # if alpha \\in (6,7], we rotate from |000> to |111> to -|000>\n",
    "    \n",
    "    # for any input outisde range, arbritrarily force it back into range\n",
    "    if alpha > 7:\n",
    "        alpha = 7\n",
    "    \n",
    "    # decode parameter\n",
    "    target = alpha if alpha % 1 == 0 else alpha//1 + 1\n",
    "    target = f\"{int(target):03b}\"\n",
    "    angle = (alpha % 1) * 2 * np.pi\n",
    "    \n",
    "    # implement rotations\n",
    "    for i, bit in enumerate(target):\n",
    "        if bit == '1':\n",
    "            qml.RX(angle, wires=i)\n",
    "            \n",
    "    return qml.probs(wires=range(3))\n",
    "\n",
    "def generate_coefficients():\n",
    "    \"\"\"This function must return a list of 8 different values of the parameter that\n",
    "    generate the states 000, 001, 010, ..., 111, respectively, with your ansatz.\n",
    "\n",
    "    Returns:\n",
    "        (list(int)): A list of eight real numbers.\n",
    "    \"\"\"\n",
    "    \n",
    "    # Put your code here #\n",
    "    \n",
    "    return [0, 0.5, 1.5, 2.5, 3.5, 4.5, 5.5, 6.5]\n",
    "\n",
    "np.round(model(4.5), 3) # 4.5 should be  |101> = |4>"
   ]
  },
  {
   "cell_type": "code",
   "execution_count": 4,
   "id": "1d99dbc8",
   "metadata": {},
   "outputs": [],
   "source": [
    "# These functions are responsible for testing the solution.\n",
    "def run(test_case_input: str) -> str:\n",
    "    return None\n",
    "\n",
    "def check(solution_output, expected_output: str) -> None:\n",
    "    coefs = generate_coefficients()\n",
    "    output = np.array([model(c) for c in coefs])\n",
    "    epsilon = 0.001\n",
    "\n",
    "    for i in range(len(coefs)):\n",
    "        assert np.isclose(output[i][i], 1)\n",
    "\n",
    "    def is_continuous(function, point):\n",
    "        limit = calculate_limit(function, point)\n",
    "\n",
    "        if limit is not None and sum(abs(limit - function(point))) < epsilon:\n",
    "            return True\n",
    "        else:\n",
    "            return False\n",
    "\n",
    "    def is_continuous_in_interval(function, interval):\n",
    "        for point in interval:\n",
    "            if not is_continuous(function, point):\n",
    "                return False\n",
    "        return True\n",
    "\n",
    "    def calculate_limit(function, point):\n",
    "        x_values = [point - epsilon, point, point + epsilon]\n",
    "        y_values = [function(x) for x in x_values]\n",
    "        average = sum(y_values) / len(y_values)\n",
    "\n",
    "        return average\n",
    "\n",
    "    assert is_continuous_in_interval(model, np.arange(0,10,0.001))\n",
    "\n",
    "    for coef in coefs:\n",
    "        assert coef >= 0 and coef <= 10"
   ]
  },
  {
   "cell_type": "code",
   "execution_count": 5,
   "id": "d403127b",
   "metadata": {},
   "outputs": [],
   "source": [
    "test_cases = [['No input', 'No output']]"
   ]
  },
  {
   "cell_type": "code",
   "execution_count": 6,
   "id": "5bee4f8c",
   "metadata": {},
   "outputs": [
    {
     "name": "stdout",
     "output_type": "stream",
     "text": [
      "Running test case 0 with input 'No input'...\n",
      "Correct!\n"
     ]
    }
   ],
   "source": [
    "for i, (input_, expected_output) in enumerate(test_cases):\n",
    "    print(f\"Running test case {i} with input '{input_}'...\")\n",
    "\n",
    "    try:\n",
    "        output = run(input_)\n",
    "\n",
    "    except Exception as exc:\n",
    "        print(f\"Runtime Error. {exc}\")\n",
    "\n",
    "    else:\n",
    "        if message := check(output, expected_output):\n",
    "            print(f\"Wrong Answer. Have: '{output}'. Want: '{expected_output}'.\")\n",
    "\n",
    "        else:\n",
    "            print(\"Correct!\")"
   ]
  }
 ],
 "metadata": {
  "kernelspec": {
   "display_name": "pennylane",
   "language": "python",
   "name": "pennylane"
  },
  "language_info": {
   "codemirror_mode": {
    "name": "ipython",
    "version": 3
   },
   "file_extension": ".py",
   "mimetype": "text/x-python",
   "name": "python",
   "nbconvert_exporter": "python",
   "pygments_lexer": "ipython3",
   "version": "3.11.2"
  }
 },
 "nbformat": 4,
 "nbformat_minor": 5
}
