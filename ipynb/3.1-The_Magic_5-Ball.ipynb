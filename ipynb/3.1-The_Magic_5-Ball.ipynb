{
 "cells": [
  {
   "cell_type": "markdown",
   "id": "c7885d4e",
   "metadata": {},
   "source": [
    "##### A Tale of Timbits\n",
    "\n",
    "# The Magic 5-Ball (100 points)\n",
    "\n",
    "### Backstory\n",
    "\n",
    "Doc Trine has been kidnapped by a freelance security analyst, Ove, and held in some sort of 'hyperjail'. Zenda and Reece need to figure out where it is and how to get there, using only the janky equipment lying around the office. Once they've rescued her, maybe Doc Trine will finally reveal the secret of timbits!\n",
    "\n",
    "At Trine's desk, they find her notebook, full of diagrams, calculations, and dense, messy handwriting. Leafing through them, Zenda and Reece discover a note helpfully explaining what this hyperjail is: \"*A 5-dimensional hypercube, accessed from some unknown point in deep space. Should get those robots out there some time.*\" Robots? They keep reading: \"*Cell number is in the magic 5-ball.*\" They root around in the games room and find a dusty old magic 5-ball, which outputs 'yes' and 'no' answers to a 5-bit input. Presumably (though who knows how) Trine has concealed her location in this oracle. They have another problem, though. The fault-tolerant office equipment has disappeared along with Trine, leaving only noisy old circuitry!\n",
    "\n",
    "### Noisy Bernstein–Vazirani\n",
    "\n",
    "The oracle encodes the cell number $c \\in \\{0,1\\}^5$, a 5-bit string. Consider the dot product\n",
    "\n",
    "$$f(x) = x \\cdot c = x_0 c_0 + x_1 c_1 + \\ldots + x_5 c_5 \\mod 2$$\n",
    "\n",
    "where $x \\in \\{0,1\\}^5$ is an arbitrary 5-bit string. The oracle is a unitary operator $U_f$ which encodes the dot product $f$ as a phase:\n",
    "\n",
    "$$U_f |x\\rangle = (-1)^{f(x)} |x\\rangle$$\n",
    "\n",
    "Zenda and Reece need to use this oracle to learn the starting positions\n",
    ", but equipment in the old lab is noisy, with *depolarizing noise*, which with some probability $\\lambda$ replaces a qubit state with something random. Despite the noise, Zenda and Reece can attempt to learn Doc Trine's coordinates using the *Bernstein–Vazirani algorithm*. We picture the noisy circuit below:\n",
    "\n",
    "![Noisy Bernstein-Vazirani Algorithm](../img/bv.png)\n",
    "\n",
    "Your goal: implement a noisy version of the Bernstein–Vazirani algorithm, using the noisy Hadamard gates provided. Will it work on the old computer?\n",
    "\n",
    "## Challenge code\n",
    "\n",
    "In the code below, you are given various functions:\n",
    "\n",
    "- `oracle_matrix`: which encodes Doc Trine's location in the hypercube.\n",
    "- `noisy_Hadamard`: which applies a noisy Hadamard gate, with a probability `lmbda` of replacing an incoming or outgoing qubit state with something random.\n",
    "- `noisy_BernsteinVazirani`: which implements the Bernstein-Vazirani algorithm using the oracle and the `noisy_Hadamard` operation noisy_Hadamard. **You must complete this function**.\n",
    "\n",
    "You may find this resource helpful:\n",
    "\n",
    "- [Bernstein-Vazirani algorithm](https://en.wikipedia.org/wiki/Bernstein%E2%80%93Vazirani_algorithm)\n",
    "\n",
    "### Inputs\n",
    "\n",
    "The noisy Bernstein-Vazirani circuit `noisy_BernsteinVazirani` takes as input the probability `lmbda` (`float`) of replacing the state of a qubit.\n",
    "\n",
    "### Output\n",
    "\n",
    "Your `noisy_BernsteinVazirani` circuit should correctly output the expectation value of the Pauli-$Z$operator on each qubit (`[float]`). The pattern of positive and negative expectations gives the cell number for any value of $\\lambda$, showing that Bernstein–Vazirani is robust to noise.\n",
    "\n",
    "If your solution matches the correct one within the given tolerance specified in `check` (in this case it's a `1e-4` relative error tolerance), the output will be `\"Correct!\"` Otherwise, you will receive a `\"Wrong answer\"` prompt.\n",
    "\n",
    "### Code"
   ]
  },
  {
   "cell_type": "code",
   "execution_count": 1,
   "id": "489d169a",
   "metadata": {},
   "outputs": [],
   "source": [
    "import json\n",
    "import pennylane as qml\n",
    "import pennylane.numpy as np"
   ]
  },
  {
   "cell_type": "code",
   "execution_count": 2,
   "id": "8321d83b",
   "metadata": {},
   "outputs": [],
   "source": [
    "def noisy_Hadamard(lmbda, wire):\n",
    "    \"\"\"A Hadamard gate with depolarizing noise on either side.\n",
    "    \n",
    "    Args:\n",
    "        lmbda (float): The parameter defining the depolarizing channel.\n",
    "        wire (int): The wire the depolarizing channel acts on.\n",
    "    \"\"\"\n",
    "    qml.DepolarizingChannel(lmbda, wires=wire)\n",
    "    qml.Hadamard(wire)\n",
    "    qml.DepolarizingChannel(lmbda, wires=wire)\n",
    "\n",
    "# Oracle matrix for Doc Trine's cell number\n",
    "\n",
    "flips = [1, 3, 5, 7, 8, 10, 12, 14, 16, 18, 20, 22, 25, 27, 29, 31]\n",
    "\n",
    "oracle_matrix = np.eye(2**5)\n",
    "for i in flips:\n",
    "    oracle_matrix[i, i] = -1"
   ]
  },
  {
   "cell_type": "code",
   "execution_count": 3,
   "id": "d79d67e8",
   "metadata": {},
   "outputs": [],
   "source": [
    "# Implement the Bernstein-Vazirani algorithm with depolarizing noise\n",
    "\n",
    "dev = qml.device(\"default.mixed\", wires = 5)\n",
    "@qml.qnode(dev)\n",
    "def noisy_BernsteinVazirani(lmbda):\n",
    "    \"\"\"Runs the Bernstein-Vazirani algorithm with depolarizing noise.\n",
    "\n",
    "    Args:\n",
    "        lmbda (float): The probability of erasing the state of a qubit.\n",
    "\n",
    "    Returns:\n",
    "        (list(float)): Expectation values for PauliZ on all n wires.\n",
    "    \"\"\"\n",
    "    # Put your code here #\n",
    "    \n",
    "    for wire in dev.wires:\n",
    "        noisy_Hadamard(lmbda, wire)\n",
    "    qml.QubitUnitary(oracle_matrix, wires=dev.wires)\n",
    "    for wire in dev.wires:\n",
    "        noisy_Hadamard(lmbda, wire)\n",
    "    \n",
    "    return [qml.expval(qml.PauliZ(i)) for i in range(5)]"
   ]
  },
  {
   "cell_type": "code",
   "execution_count": 4,
   "id": "9e174138",
   "metadata": {},
   "outputs": [],
   "source": [
    "# These functions are responsible for testing the solution.\n",
    "def run(test_case_input: str) -> str:\n",
    "\n",
    "    lmbda = json.loads(test_case_input)\n",
    "    output = noisy_BernsteinVazirani(lmbda).tolist()\n",
    "\n",
    "    return str(output)\n",
    "\n",
    "def check(solution_output: str, expected_output: str) -> None:\n",
    "    \n",
    "    solution_output = json.loads(solution_output)\n",
    "    expected_output = json.loads(expected_output)\n",
    "    assert np.allclose(\n",
    "        solution_output, expected_output, rtol=1e-4\n",
    "    ), \"Your noisy Bernstein-Vazirani algorithm isn't giving the right answers!\""
   ]
  },
  {
   "cell_type": "code",
   "execution_count": 5,
   "id": "b5da6464",
   "metadata": {},
   "outputs": [],
   "source": [
    "test_cases = [['0.1', '[-0.5641679, -0.5641679,  0.5641679,  0.5641679, -0.5641679]']]"
   ]
  },
  {
   "cell_type": "code",
   "execution_count": 6,
   "id": "48483ce1",
   "metadata": {},
   "outputs": [
    {
     "name": "stdout",
     "output_type": "stream",
     "text": [
      "Running test case 0 with input '0.1'...\n",
      "Correct!\n"
     ]
    }
   ],
   "source": [
    "for i, (input_, expected_output) in enumerate(test_cases):\n",
    "    print(f\"Running test case {i} with input '{input_}'...\")\n",
    "\n",
    "    try:\n",
    "        output = run(input_)\n",
    "\n",
    "    except Exception as exc:\n",
    "        print(f\"Runtime Error. {exc}\")\n",
    "\n",
    "    else:\n",
    "        if message := check(output, expected_output):\n",
    "            print(f\"Wrong Answer. Have: '{output}'. Want: '{expected_output}'.\")\n",
    "\n",
    "        else:\n",
    "            print(\"Correct!\")"
   ]
  }
 ],
 "metadata": {
  "kernelspec": {
   "display_name": "pennylane",
   "language": "python",
   "name": "pennylane"
  },
  "language_info": {
   "codemirror_mode": {
    "name": "ipython",
    "version": 3
   },
   "file_extension": ".py",
   "mimetype": "text/x-python",
   "name": "python",
   "nbconvert_exporter": "python",
   "pygments_lexer": "ipython3",
   "version": "3.11.2"
  }
 },
 "nbformat": 4,
 "nbformat_minor": 5
}
